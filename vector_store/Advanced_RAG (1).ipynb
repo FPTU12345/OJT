{
  "nbformat": 4,
  "nbformat_minor": 0,
  "metadata": {
    "colab": {
      "provenance": [],
      "toc_visible": true
    },
    "kernelspec": {
      "name": "python3",
      "display_name": "Python 3"
    },
    "language_info": {
      "name": "python"
    }
  },
  "cells": [
    {
      "cell_type": "markdown",
      "source": [
        "# **Import libraries**"
      ],
      "metadata": {
        "id": "TX_KuKQvazCj"
      }
    },
    {
      "cell_type": "code",
      "execution_count": null,
      "metadata": {
        "id": "wCmATWYYar_O"
      },
      "outputs": [],
      "source": [
        "!pip -q install langchain huggingface_hub openai google-search-results tiktoken chromadb lark"
      ]
    },
    {
      "cell_type": "code",
      "source": [
        "!pip install rank_bm25"
      ],
      "metadata": {
        "id": "SfYQGIiPjJa0"
      },
      "execution_count": null,
      "outputs": []
    },
    {
      "cell_type": "code",
      "source": [
        "# Model\n",
        "from langchain.llms import OpenAI\n",
        "\n",
        "# Data making tools\n",
        "from langchain.schema import Document\n",
        "from langchain.chains.query_constructor.base import AttributeInfo\n",
        "\n",
        "# Vector stores\n",
        "from langchain.vectorstores import Chroma\n",
        "\n",
        "# Splitting data\n",
        "from langchain.text_splitter import RecursiveCharacterTextSplitter\n",
        "\n",
        "# Embedding\n",
        "from langchain.embeddings.openai import OpenAIEmbeddings\n",
        "embeddings = OpenAIEmbeddings()\n",
        "\n",
        "# Prompt\n",
        "from langchain.prompts import PromptTemplate\n",
        "\n",
        "# Advanced RAG:\n",
        "# I. Self query\n",
        "from langchain.retrievers.self_query.base import SelfQueryRetriever\n",
        "\n",
        "# II. Multi query\n",
        "from langchain.retrievers.multi_query import MultiQueryRetriever\n",
        "\n",
        "import logging\n",
        "logging.basicConfig()\n",
        "logging.getLogger(\"langchain.retrievers.multi_query\").setLevel(logging.INFO)\n",
        "\n",
        "# III. Ensemble Retriever\n",
        "from langchain.retrievers import BM25Retriever, EnsembleRetriever\n",
        "\n",
        "# IV. Contextual Compression\n",
        "from langchain.retrievers import ContextualCompressionRetriever\n",
        "from langchain.retrievers.document_compressors import LLMChainExtractor\n",
        "\n",
        "# V. Parent Document Retriever\n",
        "from langchain.retrievers import ParentDocumentRetriever\n",
        "\n",
        "# Others\n",
        "from langchain.storage import InMemoryStore"
      ],
      "metadata": {
        "id": "PgAr_oz9bm1z"
      },
      "execution_count": 38,
      "outputs": []
    },
    {
      "cell_type": "markdown",
      "source": [
        "# **Advanced RAG**"
      ],
      "metadata": {
        "id": "f3ZIKiFTaxp8"
      }
    },
    {
      "cell_type": "markdown",
      "source": [
        "## Self Query"
      ],
      "metadata": {
        "id": "NUgyedHga_sN"
      }
    },
    {
      "cell_type": "code",
      "source": [
        "docs = [\n",
        "    Document(\n",
        "        page_content=\"Complex, layered, rich red with dark fruit flavors\",\n",
        "        metadata={\"name\":\"Opus One\", \"year\": 2018, \"rating\": 96, \"grape\": \"Cabernet Sauvignon\", \"color\":\"red\", \"country\":\"USA\"},\n",
        "    ),\n",
        "    Document(\n",
        "        page_content=\"Luxurious, sweet wine with flavors of honey, apricot, and peach\",\n",
        "        metadata={\"name\":\"Château d'Yquem\", \"year\": 2015, \"rating\": 98, \"grape\": \"Sémillon\", \"color\":\"white\", \"country\":\"France\"},\n",
        "    ),\n",
        "    Document(\n",
        "        page_content=\"Full-bodied red with notes of black fruit and spice\",\n",
        "        metadata={\"name\":\"Penfolds Grange\", \"year\": 2017, \"rating\": 97, \"grape\": \"Shiraz\", \"color\":\"red\", \"country\":\"Australia\"},\n",
        "    ),\n",
        "    Document(\n",
        "        page_content=\"Elegant, balanced red with herbal and berry nuances\",\n",
        "        metadata={\"name\":\"Sassicaia\", \"year\": 2016, \"rating\": 95, \"grape\": \"Cabernet Franc\", \"color\":\"red\", \"country\":\"Italy\"},\n",
        "    ),\n",
        "    Document(\n",
        "        page_content=\"Highly sought-after Pinot Noir with red fruit and earthy notes\",\n",
        "        metadata={\"name\":\"Domaine de la Romanée-Conti\", \"year\": 2018, \"rating\": 100, \"grape\": \"Pinot Noir\", \"color\":\"red\", \"country\":\"France\"},\n",
        "    ),\n",
        "    Document(\n",
        "        page_content=\"Crisp white with tropical fruit and citrus flavors\",\n",
        "        metadata={\"name\":\"Cloudy Bay\", \"year\": 2021, \"rating\": 92, \"grape\": \"Sauvignon Blanc\", \"color\":\"white\", \"country\":\"New Zealand\"},\n",
        "    ),\n",
        "    Document(\n",
        "        page_content=\"Rich, complex Champagne with notes of brioche and citrus\",\n",
        "        metadata={\"name\":\"Krug Grande Cuvée\", \"year\": 2010, \"rating\": 93, \"grape\": \"Chardonnay blend\", \"color\":\"sparkling\", \"country\":\"New Zealand\"},\n",
        "    ),\n",
        "    Document(\n",
        "        page_content=\"Intense, dark fruit flavors with hints of chocolate\",\n",
        "        metadata={\"name\":\"Caymus Special Selection\", \"year\": 2018, \"rating\": 96, \"grape\": \"Cabernet Sauvignon\", \"color\":\"red\", \"country\":\"USA\"},\n",
        "    ),\n",
        "    Document(\n",
        "        page_content=\"Exotic, aromatic white with stone fruit and floral notes\",\n",
        "        metadata={\"name\":\"Jermann Vintage Tunina\", \"year\": 2020, \"rating\": 91, \"grape\": \"Sauvignon Blanc blend\", \"color\":\"white\", \"country\":\"Italy\"},\n",
        "    ),\n",
        "]\n",
        "vectorstore = Chroma.from_documents(docs, embeddings)"
      ],
      "metadata": {
        "id": "a9zZhOXJbUet"
      },
      "execution_count": 6,
      "outputs": []
    },
    {
      "cell_type": "code",
      "source": [
        "metadata_field_info = [\n",
        "    AttributeInfo(\n",
        "        name=\"grape\",\n",
        "        description=\"The grape used to make the wine\",\n",
        "        type=\"string or list[string]\",\n",
        "    ),\n",
        "    AttributeInfo(\n",
        "        name=\"name\",\n",
        "        description=\"The name of the wine\",\n",
        "        type=\"string or list[string]\",\n",
        "    ),\n",
        "    AttributeInfo(\n",
        "        name=\"color\",\n",
        "        description=\"The color of the wine\",\n",
        "        type=\"string or list[string]\",\n",
        "    ),\n",
        "    AttributeInfo(\n",
        "        name=\"year\",\n",
        "        description=\"The year the wine was released\",\n",
        "        type=\"integer\",\n",
        "    ),\n",
        "    AttributeInfo(\n",
        "        name=\"country\",\n",
        "        description=\"The name of the country the wine comes from\",\n",
        "        type=\"string\",\n",
        "    ),\n",
        "    AttributeInfo(\n",
        "        name=\"rating\", description=\"The Robert Parker rating for the wine 0-100\", type=\"integer\"\n",
        "    ),\n",
        "]\n",
        "document_content_description = \"Brief description of the wine\""
      ],
      "metadata": {
        "id": "9S8hf-OJcRDt"
      },
      "execution_count": 9,
      "outputs": []
    },
    {
      "cell_type": "code",
      "source": [
        "llm = OpenAI(temperature=0)\n",
        "\n",
        "retriever = SelfQueryRetriever.from_llm(\n",
        "    llm,\n",
        "    vectorstore,\n",
        "    document_content_description,\n",
        "    metadata_field_info,\n",
        "    verbose=True\n",
        ")"
      ],
      "metadata": {
        "id": "Ns917nXnc_cj"
      },
      "execution_count": 10,
      "outputs": []
    },
    {
      "cell_type": "markdown",
      "source": [
        "### Ex1"
      ],
      "metadata": {
        "id": "Jd1xFV8bdU7x"
      }
    },
    {
      "cell_type": "code",
      "source": [
        "res1 = retriever.get_relevant_documents(\"What are some red wines\")\n",
        "res1"
      ],
      "metadata": {
        "colab": {
          "base_uri": "https://localhost:8080/"
        },
        "id": "IFD1ha4udhmA",
        "outputId": "b8913cf8-4b1c-4b74-87f6-56bfbe0a18ad"
      },
      "execution_count": 11,
      "outputs": [
        {
          "output_type": "execute_result",
          "data": {
            "text/plain": [
              "[Document(page_content='Elegant, balanced red with herbal and berry nuances', metadata={'color': 'red', 'country': 'Italy', 'grape': 'Cabernet Franc', 'name': 'Sassicaia', 'rating': 95, 'year': 2016}),\n",
              " Document(page_content='Full-bodied red with notes of black fruit and spice', metadata={'color': 'red', 'country': 'Australia', 'grape': 'Shiraz', 'name': 'Penfolds Grange', 'rating': 97, 'year': 2017}),\n",
              " Document(page_content='Complex, layered, rich red with dark fruit flavors', metadata={'color': 'red', 'country': 'USA', 'grape': 'Cabernet Sauvignon', 'name': 'Opus One', 'rating': 96, 'year': 2018}),\n",
              " Document(page_content='Highly sought-after Pinot Noir with red fruit and earthy notes', metadata={'color': 'red', 'country': 'France', 'grape': 'Pinot Noir', 'name': 'Domaine de la Romanée-Conti', 'rating': 100, 'year': 2018})]"
            ]
          },
          "metadata": {},
          "execution_count": 11
        }
      ]
    },
    {
      "cell_type": "markdown",
      "source": [
        "### Ex2"
      ],
      "metadata": {
        "id": "ji-2cZTEdXbd"
      }
    },
    {
      "cell_type": "code",
      "source": [
        "res2 = retriever.get_relevant_documents(\"I want a wine that has fruity nodes\")\n",
        "res2"
      ],
      "metadata": {
        "colab": {
          "base_uri": "https://localhost:8080/"
        },
        "id": "YcFiCevHdiCa",
        "outputId": "32c74872-3d60-4895-f0d9-bec57b11b0c8"
      },
      "execution_count": 12,
      "outputs": [
        {
          "output_type": "execute_result",
          "data": {
            "text/plain": [
              "[Document(page_content='Crisp white with tropical fruit and citrus flavors', metadata={'color': 'white', 'country': 'New Zealand', 'grape': 'Sauvignon Blanc', 'name': 'Cloudy Bay', 'rating': 92, 'year': 2021}),\n",
              " Document(page_content='Intense, dark fruit flavors with hints of chocolate', metadata={'color': 'red', 'country': 'USA', 'grape': 'Cabernet Sauvignon', 'name': 'Caymus Special Selection', 'rating': 96, 'year': 2018}),\n",
              " Document(page_content='Luxurious, sweet wine with flavors of honey, apricot, and peach', metadata={'color': 'white', 'country': 'France', 'grape': 'Sémillon', 'name': \"Château d'Yquem\", 'rating': 98, 'year': 2015}),\n",
              " Document(page_content='Complex, layered, rich red with dark fruit flavors', metadata={'color': 'red', 'country': 'USA', 'grape': 'Cabernet Sauvignon', 'name': 'Opus One', 'rating': 96, 'year': 2018})]"
            ]
          },
          "metadata": {},
          "execution_count": 12
        }
      ]
    },
    {
      "cell_type": "markdown",
      "source": [
        "### Ex3"
      ],
      "metadata": {
        "id": "UPBCiVhpdXh4"
      }
    },
    {
      "cell_type": "code",
      "source": [
        "res3 = retriever.get_relevant_documents(\"I want a wine that has fruity nodes and has a rating above 97\")\n",
        "res3"
      ],
      "metadata": {
        "colab": {
          "base_uri": "https://localhost:8080/"
        },
        "id": "-c1tvIpUdibm",
        "outputId": "6c31ce34-fec8-4e63-d46d-d2e12bea9858"
      },
      "execution_count": 13,
      "outputs": [
        {
          "output_type": "execute_result",
          "data": {
            "text/plain": [
              "[Document(page_content='Luxurious, sweet wine with flavors of honey, apricot, and peach', metadata={'color': 'white', 'country': 'France', 'grape': 'Sémillon', 'name': \"Château d'Yquem\", 'rating': 98, 'year': 2015}),\n",
              " Document(page_content='Highly sought-after Pinot Noir with red fruit and earthy notes', metadata={'color': 'red', 'country': 'France', 'grape': 'Pinot Noir', 'name': 'Domaine de la Romanée-Conti', 'rating': 100, 'year': 2018})]"
            ]
          },
          "metadata": {},
          "execution_count": 13
        }
      ]
    },
    {
      "cell_type": "markdown",
      "source": [
        "## Multi query"
      ],
      "metadata": {
        "id": "mbS6IyibbC0t"
      }
    },
    {
      "cell_type": "code",
      "source": [
        "question = \"I want a wine that has fruity nodes and has a rating above 97\"\n",
        "llm = OpenAI(temperature=0)\n",
        "\n",
        "retriever_from_llm = MultiQueryRetriever.from_llm(\n",
        "    retriever=vectorstore.as_retriever(), llm=llm\n",
        ")\n",
        "\n",
        "res = retriever_from_llm.get_relevant_documents(query=question)"
      ],
      "metadata": {
        "colab": {
          "base_uri": "https://localhost:8080/"
        },
        "id": "BtAHvwZXbU1I",
        "outputId": "8b515080-165a-496b-b67d-ddfc114ff4aa"
      },
      "execution_count": 17,
      "outputs": [
        {
          "output_type": "stream",
          "name": "stderr",
          "text": [
            "INFO:langchain.retrievers.multi_query:Generated queries: ['1. Can you suggest a highly rated wine with fruity notes?', '2. What are some top-rated wines with fruity flavors?', '3. Could you recommend a wine with a rating above 97 and fruity characteristics?']\n"
          ]
        }
      ]
    },
    {
      "cell_type": "code",
      "source": [
        "res"
      ],
      "metadata": {
        "colab": {
          "base_uri": "https://localhost:8080/"
        },
        "id": "852yA12khbZ0",
        "outputId": "36d8cec1-91cb-4ec9-ddca-780ab4ab8d3b"
      },
      "execution_count": 18,
      "outputs": [
        {
          "output_type": "execute_result",
          "data": {
            "text/plain": [
              "[Document(page_content='Luxurious, sweet wine with flavors of honey, apricot, and peach', metadata={'color': 'white', 'country': 'France', 'grape': 'Sémillon', 'name': \"Château d'Yquem\", 'rating': 98, 'year': 2015}),\n",
              " Document(page_content='Highly sought-after Pinot Noir with red fruit and earthy notes', metadata={'color': 'red', 'country': 'France', 'grape': 'Pinot Noir', 'name': 'Domaine de la Romanée-Conti', 'rating': 100, 'year': 2018}),\n",
              " Document(page_content='Full-bodied red with notes of black fruit and spice', metadata={'color': 'red', 'country': 'Australia', 'grape': 'Shiraz', 'name': 'Penfolds Grange', 'rating': 97, 'year': 2017}),\n",
              " Document(page_content='Elegant, balanced red with herbal and berry nuances', metadata={'color': 'red', 'country': 'Italy', 'grape': 'Cabernet Franc', 'name': 'Sassicaia', 'rating': 95, 'year': 2016}),\n",
              " Document(page_content='Complex, layered, rich red with dark fruit flavors', metadata={'color': 'red', 'country': 'USA', 'grape': 'Cabernet Sauvignon', 'name': 'Opus One', 'rating': 96, 'year': 2018})]"
            ]
          },
          "metadata": {},
          "execution_count": 18
        }
      ]
    },
    {
      "cell_type": "markdown",
      "source": [
        "##Ensemble Retriever"
      ],
      "metadata": {
        "id": "Jl609u-pbQfB"
      }
    },
    {
      "cell_type": "code",
      "source": [
        "# bm25\n",
        "bm25_retriever = BM25Retriever.from_documents(docs)\n",
        "bm25_retriever.k = 2\n",
        "\n",
        "# chroma\n",
        "chroma_retriever = vectorstore.as_retriever(search_kwargs={\"k\": 2})\n",
        "\n",
        "# Ensemble\n",
        "ensemble_retriever = EnsembleRetriever(retrievers=[bm25_retriever, chroma_retriever], weights=[0.5, 0.5])"
      ],
      "metadata": {
        "id": "5c9Jaxq-bWhq"
      },
      "execution_count": 31,
      "outputs": []
    },
    {
      "cell_type": "code",
      "source": [
        "result = ensemble_retriever.get_relevant_documents(\"I want a wine that has fruity nodes and has a rating above 97\")\n",
        "result"
      ],
      "metadata": {
        "colab": {
          "base_uri": "https://localhost:8080/"
        },
        "id": "ok47kB8Kk_Wl",
        "outputId": "f6bd1211-54a2-4ee7-f4a6-eed791f2b77c"
      },
      "execution_count": 32,
      "outputs": [
        {
          "output_type": "execute_result",
          "data": {
            "text/plain": [
              "[Document(page_content='Luxurious, sweet wine with flavors of honey, apricot, and peach', metadata={'color': 'white', 'country': 'France', 'grape': 'Sémillon', 'name': \"Château d'Yquem\", 'rating': 98, 'year': 2015}),\n",
              " Document(page_content='Highly sought-after Pinot Noir with red fruit and earthy notes', metadata={'color': 'red', 'country': 'France', 'grape': 'Pinot Noir', 'name': 'Domaine de la Romanée-Conti', 'rating': 100, 'year': 2018}),\n",
              " Document(page_content='Crisp white with tropical fruit and citrus flavors', metadata={'name': 'Cloudy Bay', 'year': 2021, 'rating': 92, 'grape': 'Sauvignon Blanc', 'color': 'white', 'country': 'New Zealand'})]"
            ]
          },
          "metadata": {},
          "execution_count": 32
        }
      ]
    },
    {
      "cell_type": "markdown",
      "source": [
        "## Contextual Compression"
      ],
      "metadata": {
        "id": "H6X8Y8ysbIoO"
      }
    },
    {
      "cell_type": "code",
      "source": [
        "llm = OpenAI(temperature=0)\n",
        "compressor = LLMChainExtractor.from_llm(llm)\n",
        "compression_retriever = ContextualCompressionRetriever(base_compressor=compressor,\n",
        "                                                       base_retriever=vectorstore.as_retriever())"
      ],
      "metadata": {
        "id": "tFv4okxEbVfG"
      },
      "execution_count": 34,
      "outputs": []
    },
    {
      "cell_type": "code",
      "source": [
        "question = \"Fruity flavor wine\"\n",
        "result = compression_retriever.get_relevant_documents(question)\n",
        "result"
      ],
      "metadata": {
        "colab": {
          "base_uri": "https://localhost:8080/"
        },
        "id": "8NhX8-Cmoz8g",
        "outputId": "3938c09c-92a8-46e6-a6ae-f8646b42b1a4"
      },
      "execution_count": 35,
      "outputs": [
        {
          "output_type": "stream",
          "name": "stderr",
          "text": [
            "/usr/local/lib/python3.10/dist-packages/langchain/chains/llm.py:316: UserWarning: The predict_and_parse method is deprecated, instead pass an output parser directly to LLMChain.\n",
            "  warnings.warn(\n",
            "/usr/local/lib/python3.10/dist-packages/langchain/chains/llm.py:316: UserWarning: The predict_and_parse method is deprecated, instead pass an output parser directly to LLMChain.\n",
            "  warnings.warn(\n",
            "/usr/local/lib/python3.10/dist-packages/langchain/chains/llm.py:316: UserWarning: The predict_and_parse method is deprecated, instead pass an output parser directly to LLMChain.\n",
            "  warnings.warn(\n",
            "/usr/local/lib/python3.10/dist-packages/langchain/chains/llm.py:316: UserWarning: The predict_and_parse method is deprecated, instead pass an output parser directly to LLMChain.\n",
            "  warnings.warn(\n"
          ]
        },
        {
          "output_type": "execute_result",
          "data": {
            "text/plain": [
              "[Document(page_content='honey, apricot, peach', metadata={'color': 'white', 'country': 'France', 'grape': 'Sémillon', 'name': \"Château d'Yquem\", 'rating': 98, 'year': 2015}),\n",
              " Document(page_content='Crisp white with tropical fruit and citrus flavors', metadata={'color': 'white', 'country': 'New Zealand', 'grape': 'Sauvignon Blanc', 'name': 'Cloudy Bay', 'rating': 92, 'year': 2021}),\n",
              " Document(page_content='dark fruit flavors', metadata={'color': 'red', 'country': 'USA', 'grape': 'Cabernet Sauvignon', 'name': 'Opus One', 'rating': 96, 'year': 2018}),\n",
              " Document(page_content='Intense, dark fruit flavors', metadata={'color': 'red', 'country': 'USA', 'grape': 'Cabernet Sauvignon', 'name': 'Caymus Special Selection', 'rating': 96, 'year': 2018})]"
            ]
          },
          "metadata": {},
          "execution_count": 35
        }
      ]
    },
    {
      "cell_type": "markdown",
      "source": [
        "## Parent Document Retriever"
      ],
      "metadata": {
        "id": "6tdYK2m-bNR_"
      }
    },
    {
      "cell_type": "code",
      "source": [
        "child_splitter = RecursiveCharacterTextSplitter(chunk_size=25, chunk_overlap = 0)\n",
        "parent_splitter = RecursiveCharacterTextSplitter(chunk_size=50, chunk_overlap = 0)\n",
        "store = InMemoryStore()\n",
        "retriever = ParentDocumentRetriever(vectorstore=vectorstore,\n",
        "                                    docstore=store,\n",
        "                                    child_splitter=child_splitter,\n",
        "                                    parent_splitter = parent_splitter)\n",
        "retriever.add_documents(docs, ids=None)"
      ],
      "metadata": {
        "id": "Qqm6F_HibWEu"
      },
      "execution_count": 112,
      "outputs": []
    },
    {
      "cell_type": "code",
      "source": [
        "result = retriever.get_relevant_documents(\"I want a wine that has fruity nodes\")\n",
        "result"
      ],
      "metadata": {
        "colab": {
          "base_uri": "https://localhost:8080/"
        },
        "id": "LZ7PDybrtBwk",
        "outputId": "c8fe3706-9f77-4b22-b2bd-7949f096b9d8"
      },
      "execution_count": 113,
      "outputs": [
        {
          "output_type": "execute_result",
          "data": {
            "text/plain": [
              "[Document(page_content='Luxurious, sweet wine with flavors of honey,', metadata={'name': \"Château d'Yquem\", 'year': 2015, 'rating': 98, 'grape': 'Sémillon', 'color': 'white', 'country': 'France'})]"
            ]
          },
          "metadata": {},
          "execution_count": 113
        }
      ]
    },
    {
      "cell_type": "code",
      "source": [
        "split = parent_splitter.split_documents(docs)\n",
        "split"
      ],
      "metadata": {
        "colab": {
          "base_uri": "https://localhost:8080/"
        },
        "id": "JLoWYpgQ07HC",
        "outputId": "7fde1857-be00-40ed-8967-2ebb9989388b"
      },
      "execution_count": 114,
      "outputs": [
        {
          "output_type": "execute_result",
          "data": {
            "text/plain": [
              "[Document(page_content='Complex, layered, rich red with dark fruit flavors', metadata={'name': 'Opus One', 'year': 2018, 'rating': 96, 'grape': 'Cabernet Sauvignon', 'color': 'red', 'country': 'USA'}),\n",
              " Document(page_content='Luxurious, sweet wine with flavors of honey,', metadata={'name': \"Château d'Yquem\", 'year': 2015, 'rating': 98, 'grape': 'Sémillon', 'color': 'white', 'country': 'France'}),\n",
              " Document(page_content='apricot, and peach', metadata={'name': \"Château d'Yquem\", 'year': 2015, 'rating': 98, 'grape': 'Sémillon', 'color': 'white', 'country': 'France'}),\n",
              " Document(page_content='Full-bodied red with notes of black fruit and', metadata={'name': 'Penfolds Grange', 'year': 2017, 'rating': 97, 'grape': 'Shiraz', 'color': 'red', 'country': 'Australia'}),\n",
              " Document(page_content='spice', metadata={'name': 'Penfolds Grange', 'year': 2017, 'rating': 97, 'grape': 'Shiraz', 'color': 'red', 'country': 'Australia'}),\n",
              " Document(page_content='Elegant, balanced red with herbal and berry', metadata={'name': 'Sassicaia', 'year': 2016, 'rating': 95, 'grape': 'Cabernet Franc', 'color': 'red', 'country': 'Italy'}),\n",
              " Document(page_content='nuances', metadata={'name': 'Sassicaia', 'year': 2016, 'rating': 95, 'grape': 'Cabernet Franc', 'color': 'red', 'country': 'Italy'}),\n",
              " Document(page_content='Highly sought-after Pinot Noir with red fruit and', metadata={'name': 'Domaine de la Romanée-Conti', 'year': 2018, 'rating': 100, 'grape': 'Pinot Noir', 'color': 'red', 'country': 'France'}),\n",
              " Document(page_content='earthy notes', metadata={'name': 'Domaine de la Romanée-Conti', 'year': 2018, 'rating': 100, 'grape': 'Pinot Noir', 'color': 'red', 'country': 'France'}),\n",
              " Document(page_content='Crisp white with tropical fruit and citrus flavors', metadata={'name': 'Cloudy Bay', 'year': 2021, 'rating': 92, 'grape': 'Sauvignon Blanc', 'color': 'white', 'country': 'New Zealand'}),\n",
              " Document(page_content='Rich, complex Champagne with notes of brioche and', metadata={'name': 'Krug Grande Cuvée', 'year': 2010, 'rating': 93, 'grape': 'Chardonnay blend', 'color': 'sparkling', 'country': 'New Zealand'}),\n",
              " Document(page_content='citrus', metadata={'name': 'Krug Grande Cuvée', 'year': 2010, 'rating': 93, 'grape': 'Chardonnay blend', 'color': 'sparkling', 'country': 'New Zealand'}),\n",
              " Document(page_content='Intense, dark fruit flavors with hints of', metadata={'name': 'Caymus Special Selection', 'year': 2018, 'rating': 96, 'grape': 'Cabernet Sauvignon', 'color': 'red', 'country': 'USA'}),\n",
              " Document(page_content='chocolate', metadata={'name': 'Caymus Special Selection', 'year': 2018, 'rating': 96, 'grape': 'Cabernet Sauvignon', 'color': 'red', 'country': 'USA'}),\n",
              " Document(page_content='Exotic, aromatic white with stone fruit and floral', metadata={'name': 'Jermann Vintage Tunina', 'year': 2020, 'rating': 91, 'grape': 'Sauvignon Blanc blend', 'color': 'white', 'country': 'Italy'}),\n",
              " Document(page_content='notes', metadata={'name': 'Jermann Vintage Tunina', 'year': 2020, 'rating': 91, 'grape': 'Sauvignon Blanc blend', 'color': 'white', 'country': 'Italy'})]"
            ]
          },
          "metadata": {},
          "execution_count": 114
        }
      ]
    }
  ]
}